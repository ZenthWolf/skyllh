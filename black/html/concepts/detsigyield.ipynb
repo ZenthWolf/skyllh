{
 "cells": [
  {
   "cell_type": "markdown",
   "id": "12151349",
   "metadata": {},
   "source": [
    "# Detector Signal Yield"
   ]
  },
  {
   "cell_type": "markdown",
   "id": "69d138fc",
   "metadata": {
    "raw_mimetype": "text/restructuredtext"
   },
   "source": [
    "Several parts of an analysis will require the calculation of the detector signal yield, which is the mean number of expected signal events in the detector for a given source hypothesis, i.e. source flux function $\\Phi(\\alpha,\\delta,E,t)$."
   ]
  },
  {
   "cell_type": "raw",
   "id": "a1560531",
   "metadata": {
    "raw_mimetype": "text/restructuredtext"
   },
   "source": [
    "SkyLLH provides two abstract base classes for creating a detector signal yield instance, :py:class:`~skyllh.core.detsigyield.DetSigYieldBuilder` and :py:class:`~skyllh.core.detsigyield.DetSigYield`. The first is the builder class, which will build a :py:class:`~skyllh.core.detsigyield.DetSigYield` class instance."
   ]
  },
  {
   "cell_type": "raw",
   "id": "3b4bd127",
   "metadata": {
    "raw_mimetype": "text/restructuredtext"
   },
   "source": [
    "The builder class has the abstract method :py:meth:`~skyllh.core.detsigyield.DetSigYieldBuilder.construct_detsigyield`, which will take a :py:class:`~skyllh.core.dataset.Dataset`, :py:class:`~skyllh.core.dataset.DatasetData`, :py:class:`~skyllh.physics.flux_model.FluxModel` instance, and live-time to construct a :py:class:`~skyllh.core.detsigyield.DetSigYield` class instance, which will provide an evaluation method to calculate the detector signal yield for a given source, for the given dataset. Hence, the detector signal yield is dataset and source model dependent."
   ]
  },
  {
   "cell_type": "raw",
   "id": "653d0c06",
   "metadata": {
    "raw_mimetype": "text/restructuredtext"
   },
   "source": [
    "The :py:class:`~skyllh.core.detsigyield.DetSigYield` class has two abstract methods, :py:meth:`~skyllh.core.detsigyield.DetSigYield.source_to_array` and :py:meth:`~skyllh.core.detsigyield.DetSigYield.__call__`."
   ]
  },
  {
   "cell_type": "raw",
   "id": "60c16a6d",
   "metadata": {
    "raw_mimetype": "text/restructuredtext"
   },
   "source": [
    "The :py:meth:`~skyllh.core.detsigyield.DetSigYield.source_to_array` method takes a sequence of source models and converts it into a numpy record array suitable for the :py:meth:`~skyllh.core.detsigyield.DetSigYield.__call__` method to evaluate the detector signal yield efficiently for a list of sources. The :py:meth:`~skyllh.core.detsigyield.DetSigYield.__call__` method evaluates the :py:class:`~skyllh.core.detsigyield.DetSigYield` instance. As arguments it takes the source record array created by the :py:meth:`~skyllh.core.detsigyield.DetSigYield.source_to_array` method, and the numpy record array holding the (local) source parameter values."
   ]
  },
  {
   "cell_type": "raw",
   "id": "d75df35f",
   "metadata": {
    "raw_mimetype": "text/restructuredtext"
   },
   "source": [
    "The record array holding the local source parameter values can be generated through the :py:class:`~skyllh.core.parameters.ParameterModelMapper.create_src_params_recarray` of the :py:class:`~skyllh.core.parameters.ParameterModelMapper` instance of the analysis. See also the  :ref:`Parameter to Model mapping <sec:ParameterToModelMapping>` section."
   ]
  }
 ],
 "metadata": {
  "celltoolbar": "Raw Cell Format",
  "kernelspec": {
   "display_name": "Python 3",
   "language": "python",
   "name": "python3"
  },
  "language_info": {
   "codemirror_mode": {
    "name": "ipython",
    "version": 3
   },
   "file_extension": ".py",
   "mimetype": "text/x-python",
   "name": "python",
   "nbconvert_exporter": "python",
   "pygments_lexer": "ipython3",
   "version": "3.8.10"
  }
 },
 "nbformat": 4,
 "nbformat_minor": 5
}
